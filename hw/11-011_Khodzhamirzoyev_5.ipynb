{
 "cells": [
  {
   "cell_type": "markdown",
   "metadata": {},
   "source": [
    "# ДЗ: \n"
   ]
  },
  {
   "cell_type": "markdown",
   "metadata": {},
   "source": [
    "1. Сделать разведочный анализ данных, найти пропуски и выбросы. Примеры есть в ноутбуке EDA_AUTO из 4 задания.\n",
    "2. Заполнить пропуски. Заполнить медианой или обучить линейную регрессию и заполнить ею пропуски. Если заполните линейной регрессией пропуски, то с помощью таблицы корреляций найдите второй признак, который имеет сильную взаимосвязь с первым признаком. Создаете отдельный датафрейм из этих признаков, исключаете пропуски (не удаляете), обучаете линейну регрессию. Затем прогнозируете на исключенных данных с пропусками и заполняете эти пропуски предсказанным значением.\n",
    "3. Обучить множественную линейную регрессию. Она будет являться base line, т.е. базовая модель. С ней вы будете сравнивать другие модели.\n",
    "4. Используя кроссвалидацию, подбор гиперпараметров обучить модели Lasso regression, Ridge Regression, ElasticNet (модель где Ridge + Lasso вместе используется), DecisionTreeRegressor, SVR, RandomForestRegressor\n",
    "5. `alphas=[0.0001, 0.001,0.01, 0.1, 1, 10]` - для MultiTaskLassoCV, RidgeCV, и для ElasticNetCV.\n",
    "\n",
    "`'l1_ratio':[0.01, 0.1, 0.5, 1, 5, 10, 15, 20]` - для ElasticNetCV\n",
    "6. **для SVR и RandomForest:**\n",
    "```python\n",
    "param_grid = [{'regressor':[SVR()], 'preprocessing':[StandardScaler(), None],\n",
    "              'regressor__gamma':[0.001, 0.01, 0.1, 1, 10, 100],\n",
    "               'regressor__C': [0.001, 0.01, 0.1, 1, 10, 100]},\n",
    "              {'regressor': [DecisionTreeRegressor()],\n",
    "               'preprocessing': [None], \n",
    "               'regressor__max_features': [1, 2, 3]},\n",
    "              {'regressor': [RandomForestRegressor(n_estimators=100)],\n",
    "               'preprocessing': [None], \n",
    "               'regressor__max_features': [1, 2, 3]}]\n",
    "```\n",
    "7. **Если SVR обучается, то используем только этот набор параметров:**\n",
    "```python\n",
    "param_grid={\n",
    "    'estimator__gamma': [0.001, 0.01],\n",
    "    'estimator__C': [0.001, 0.01],\n",
    "}\n",
    "```"
   ]
  },
  {
   "cell_type": "markdown",
   "metadata": {},
   "source": [
    "## Imports & vars"
   ]
  },
  {
   "cell_type": "code",
   "execution_count": 17,
   "metadata": {},
   "outputs": [],
   "source": [
    "import numpy as np \n",
    "import pandas as pd\n",
    "import seaborn as sns\n",
    "import matplotlib.pyplot as plt\n",
    "\n",
    "from sklearn.model_selection import train_test_split\n",
    "from sklearn.preprocessing import StandardScaler\n",
    "from sklearn.model_selection import cross_val_score, cross_val_predict, cross_validate\n",
    "\n",
    "from sklearn.linear_model import LinearRegression, Ridge, Lasso, LassoCV, ElasticNet, ElasticNetCV # Линейна регрессия, Ридж и Лассо\n",
    "from sklearn.linear_model import LassoCV, RidgeCV, MultiTaskLassoCV # Ridge и Lasso Регрессия\n",
    "from sklearn.svm import SVR\n",
    "from sklearn.tree import DecisionTreeRegressor\n",
    "from sklearn.ensemble import RandomForestRegressor\n",
    "# from sklearn.ensemble import GradientBoostingRegressor\n",
    "\n",
    "from sklearn.metrics import make_scorer, r2_score\n",
    "\n",
    "from sklearn.pipeline import Pipeline\n",
    "from sklearn.pipeline import make_pipeline\n",
    "from sklearn.model_selection import GridSearchCV\n",
    "from sklearn.preprocessing import PolynomialFeatures\n",
    "\n",
    "import gc\n",
    "\n",
    "sns.set()\n",
    "%matplotlib inline\n",
    "\n",
    "import sys\n",
    "# np.set_printoptions(suppress=True)\n",
    "# np.set_printoptions(threshold=sys.maxsize)\n",
    "np.set_printoptions(precision=3)\n",
    "\n",
    "DISPLAY_MAX_ROWS = 20 #20\n",
    "pd.set_option('display.max_rows', DISPLAY_MAX_ROWS)\n",
    "pd.set_option('display.max_column',None) \n",
    "plt.style.use('seaborn-whitegrid')\n",
    "\n",
    "\n",
    "# plt.rcParams[\"figure.figsize\"] = (20, 15)\n",
    "\n",
    "import warnings\n",
    "warnings.filterwarnings('ignore')\n",
    "\n",
    "from sklearn.svm import SVC\n",
    "from sklearn.model_selection import KFold\n",
    "from sklearn.linear_model import MultiTaskElasticNetCV\n",
    "from sklearn.multioutput import MultiOutputRegressor\n",
    "from sklearn import metrics"
   ]
  },
  {
   "cell_type": "code",
   "execution_count": 2,
   "metadata": {},
   "outputs": [],
   "source": [
    "alphas = [[0.0001], [0.001], [0.01], [0.1], [1], [10]] # MultiTaskLassoCV, RidgeCV, и для ElasticNetCV\n",
    "l1_ratio = [0.01, 0.1, 0.5, 1, 5, 10, 15, 20] # для ElasticNetCV\n",
    "\n",
    "# для SVR и RandomForest\n",
    "param_grid = [{'regressor':[SVR()], 'preprocessing':[StandardScaler(), None],\n",
    "              'regressor__gamma':[0.001, 0.01, 0.1, 1, 10, 100],\n",
    "               'regressor__C': [0.001, 0.01, 0.1, 1, 10, 100]},\n",
    "              {'regressor': [DecisionTreeRegressor()],\n",
    "               'preprocessing': [None], \n",
    "               'regressor__max_features': [1, 2, 3]},\n",
    "              {'regressor': [RandomForestRegressor(n_estimators=100)],\n",
    "               'preprocessing': [None], \n",
    "               'regressor__max_features': [1, 2, 3]}] \n",
    "\n",
    "# Если SVR обучается, то используем только этот набор параметров\n",
    "# param_grid={\n",
    "#     'estimator__gamma': [0.001, 0.01],\n",
    "#     'estimator__C': [0.001, 0.01],\n",
    "# }"
   ]
  },
  {
   "cell_type": "code",
   "execution_count": 3,
   "metadata": {},
   "outputs": [],
   "source": [
    "df = pd.read_csv('data.csv')"
   ]
  },
  {
   "cell_type": "code",
   "execution_count": 4,
   "metadata": {},
   "outputs": [],
   "source": [
    "inputs = ['KS4_GPA5_Qtg.PV', 'KS4_GPA5_TC_T1.PV', 'KS4_GPA5_Nst.PV'] # предикторы\n",
    "outputs = ['KS4_GPA5_Nvd.PV', 'KS4_GPA5_Nnd.PV', 'KS4_GPA5_T4.PV', 'KS4_GPA5_Pk.PV'] # отклики, целевые признаки"
   ]
  },
  {
   "cell_type": "markdown",
   "metadata": {},
   "source": [
    "## Разведочный анализ, заполнение пропусков (`корреляцией`)"
   ]
  },
  {
   "cell_type": "code",
   "execution_count": 5,
   "metadata": {},
   "outputs": [
    {
     "name": "stdout",
     "output_type": "stream",
     "text": [
      "KS4_GPA5_Qtg.PV         0\n",
      "KS4_GPA5_TC_T1.PV       0\n",
      "KS4_GPA5_Nst.PV         0\n",
      "KS4_GPA5_Nvd.PV         0\n",
      "KS4_GPA5_Nnd.PV      2001\n",
      "KS4_GPA5_T4.PV          0\n",
      "KS4_GPA5_Pk.PV          0\n",
      "dtype: int64\n",
      "KS4_GPA5_Qtg.PV         0\n",
      "KS4_GPA5_TC_T1.PV       0\n",
      "KS4_GPA5_Nst.PV         0\n",
      "KS4_GPA5_Nvd.PV         0\n",
      "KS4_GPA5_Nnd.PV      2001\n",
      "KS4_GPA5_T4.PV          0\n",
      "KS4_GPA5_Pk.PV          0\n",
      "dtype: int64\n"
     ]
    }
   ],
   "source": [
    "print(df.isnull().sum())\n",
    "print(df.isna().sum())"
   ]
  },
  {
   "cell_type": "markdown",
   "metadata": {},
   "source": [
    "```столбец \"KS4_GPA5_Nnd.PV\" содержит 2001 пустую строку, изучим корреляцию с другими столбцами для выбора предиктора и построим предсказательную модель```"
   ]
  },
  {
   "cell_type": "code",
   "execution_count": 6,
   "metadata": {},
   "outputs": [
    {
     "data": {
      "image/png": "[encoded data removed]",
      "text/plain": [
       "<Figure size 900x600 with 2 Axes>"
      ]
     },
     "metadata": {},
     "output_type": "display_data"
    }
   ],
   "source": [
    "corr = df.corr()\n",
    "f,ax = plt.subplots(figsize=(9,6))\n",
    "sns.heatmap(corr, annot = True, linewidths=1.5 , fmt = '.2f',ax=ax)\n",
    "plt.show()"
   ]
  },
  {
   "cell_type": "code",
   "execution_count": 7,
   "metadata": {},
   "outputs": [],
   "source": [
    "X = df['KS4_GPA5_Qtg.PV'].values\n",
    "y = df['KS4_GPA5_Nnd.PV'].values\n",
    "\n",
    "nan_Indexes = np.argwhere(np.isnan(y))\n",
    "# Removing multiple elements based on index positions\n",
    "X = np.delete(X, nan_Indexes)\n",
    "y = np.delete(y, nan_Indexes)"
   ]
  },
  {
   "cell_type": "code",
   "execution_count": 8,
   "metadata": {},
   "outputs": [
    {
     "data": {
      "text/plain": [
       "(0.8722344728230169, 0.8770792842823278)"
      ]
     },
     "execution_count": 8,
     "metadata": {},
     "output_type": "execute_result"
    }
   ],
   "source": [
    "poly_features = PolynomialFeatures(degree = 4) # полиномиальная регрессия\n",
    "X_poly = poly_features.fit_transform(X.reshape(-1,1))\n",
    "\n",
    "# разбиение на тренировочные и тестовые данные\n",
    "X_train, X_test, y_train, y_test = train_test_split(X_poly, y, test_size = 0.25, random_state = 22) \n",
    "\n",
    "poly_reg_model = LinearRegression().fit(X_train, y_train)\n",
    "poly_reg_model.score(X_train, y_train), poly_reg_model.score(X_test, y_test)"
   ]
  },
  {
   "cell_type": "markdown",
   "metadata": {},
   "source": [
    "### Заполнение пропусков с помощью предиктора"
   ]
  },
  {
   "cell_type": "code",
   "execution_count": 9,
   "metadata": {},
   "outputs": [
    {
     "data": {
      "text/plain": [
       "0        912.161426\n",
       "1        914.203027\n",
       "2        914.924512\n",
       "3        915.881055\n",
       "4        916.435645\n",
       "            ...    \n",
       "29707    914.571973\n",
       "29708    913.476074\n",
       "29709    913.913086\n",
       "29710    913.895508\n",
       "29711    914.839062\n",
       "Name: KS4_GPA5_Nnd.PV, Length: 29712, dtype: float64"
      ]
     },
     "execution_count": 9,
     "metadata": {},
     "output_type": "execute_result"
    }
   ],
   "source": [
    "for i in nan_Indexes:\n",
    "    df['KS4_GPA5_Nnd.PV'][i] = poly_reg_model.predict(poly_features.fit_transform(df['KS4_GPA5_Qtg.PV'].values[i].reshape(-1,1)))\n",
    "\n",
    "df['KS4_GPA5_Nnd.PV']"
   ]
  },
  {
   "cell_type": "code",
   "execution_count": 10,
   "metadata": {},
   "outputs": [
    {
     "name": "stdout",
     "output_type": "stream",
     "text": [
      "KS4_GPA5_Qtg.PV      0\n",
      "KS4_GPA5_TC_T1.PV    0\n",
      "KS4_GPA5_Nst.PV      0\n",
      "KS4_GPA5_Nvd.PV      0\n",
      "KS4_GPA5_Nnd.PV      0\n",
      "KS4_GPA5_T4.PV       0\n",
      "KS4_GPA5_Pk.PV       0\n",
      "dtype: int64\n"
     ]
    }
   ],
   "source": [
    "print(df.isna().sum()) # ТЕПЕРЬ ПРОПУСКОВ НЕТ"
   ]
  },
  {
   "cell_type": "markdown",
   "metadata": {},
   "source": [
    "## Base line - множественная линейная регрессия"
   ]
  },
  {
   "cell_type": "code",
   "execution_count": 11,
   "metadata": {},
   "outputs": [],
   "source": [
    "X = df[inputs].values\n",
    "y = df[outputs].values\n",
    "\n",
    "multyline_regressor = LinearRegression()"
   ]
  },
  {
   "cell_type": "code",
   "execution_count": 99,
   "metadata": {},
   "outputs": [
    {
     "data": {
      "text/plain": [
       "(0.882692100347658, 0.6488335605972715)"
      ]
     },
     "execution_count": 99,
     "metadata": {},
     "output_type": "execute_result"
    }
   ],
   "source": [
    "# разбиение на тренировочные и тестовые данные\n",
    "X_train, X_test, y_train, y_test = train_test_split(X, y, test_size = 0.15, random_state = 35) \n",
    "multyline_regressor.fit(X_train, y_train)\n",
    "multyline_regressor.score(X_train, y_train), multyline_regressor.score(X_test, y_test)"
   ]
  },
  {
   "cell_type": "markdown",
   "metadata": {},
   "source": [
    "## [Кроссвалидация](https://academy.yandex.ru/handbook/ml/article/kross-validaciya) и подбор `гиперпараметров` "
   ]
  },
  {
   "cell_type": "code",
   "execution_count": 20,
   "metadata": {},
   "outputs": [],
   "source": [
    "def find_best(estimator_model, params):\n",
    "    # включает в себя кроссвалидацию\n",
    "    grid_search = GridSearchCV(estimator = estimator_model, param_grid = params, cv = 5, n_jobs = -1)\n",
    "    grid_search.fit(X_train, y_train)\n",
    "\n",
    "    best_accuracy = grid_search.best_score_\n",
    "    best_parameters = grid_search.best_params_\n",
    "    print(\"Best Accuracy: {:.2f} %\".format(best_accuracy*100))\n",
    "    print(\"Best Parameters:\", best_parameters)\n",
    "\n",
    "    return grid_search\n"
   ]
  },
  {
   "cell_type": "markdown",
   "metadata": {},
   "source": [
    "## Lasso Regression"
   ]
  },
  {
   "cell_type": "code",
   "execution_count": 21,
   "metadata": {},
   "outputs": [
    {
     "name": "stdout",
     "output_type": "stream",
     "text": [
      "Best Accuracy: 88.26 %\n",
      "Best Parameters: {'alphas': [0.0001]}\n"
     ]
    }
   ],
   "source": [
    "lasso_model = MultiTaskLassoCV()\n",
    "lasso_params = {'alphas': alphas}\n",
    "\n",
    "lasso_best = find_best(estimator_model = lasso_model, params = lasso_params)"
   ]
  },
  {
   "cell_type": "markdown",
   "metadata": {},
   "source": [
    "## Ridge Regression"
   ]
  },
  {
   "cell_type": "code",
   "execution_count": 22,
   "metadata": {},
   "outputs": [
    {
     "name": "stdout",
     "output_type": "stream",
     "text": [
      "Best Accuracy: 88.26 %\n",
      "Best Parameters: {'alphas': [0.0001]}\n"
     ]
    }
   ],
   "source": [
    "ridge_model = RidgeCV()\n",
    "ridge_params = {'alphas': alphas}\n",
    "\n",
    "ridge_best = find_best(estimator_model = ridge_model, params = ridge_params)"
   ]
  },
  {
   "cell_type": "markdown",
   "metadata": {},
   "source": [
    "## ElasticNet (Ridge + Lasso)"
   ]
  },
  {
   "cell_type": "code",
   "execution_count": 23,
   "metadata": {},
   "outputs": [
    {
     "name": "stdout",
     "output_type": "stream",
     "text": [
      "Best Accuracy: 88.26 %\n",
      "Best Parameters: {'alphas': [0.0001], 'l1_ratio': 1}\n"
     ]
    }
   ],
   "source": [
    "elnet_model = MultiTaskElasticNetCV()\n",
    "elnet_params = {'alphas': alphas,\n",
    "                'l1_ratio': l1_ratio}\n",
    "\n",
    "elnet_best = find_best(estimator_model = elnet_model, params = elnet_params)"
   ]
  },
  {
   "cell_type": "markdown",
   "metadata": {},
   "source": [
    "## DecisionTreeRegressor"
   ]
  },
  {
   "cell_type": "code",
   "execution_count": 24,
   "metadata": {},
   "outputs": [
    {
     "name": "stdout",
     "output_type": "stream",
     "text": [
      "Best Accuracy: 98.64 %\n",
      "Best Parameters: {'max_features': 3}\n"
     ]
    }
   ],
   "source": [
    "dtree_model = DecisionTreeRegressor()\n",
    "dtree_params = {'max_features': [1, 2, 3]}\n",
    "\n",
    "dtree_best = find_best(estimator_model = dtree_model, params = dtree_params)"
   ]
  },
  {
   "cell_type": "markdown",
   "metadata": {},
   "source": [
    "## SVR __запускать на свой страх и риск ^^__"
   ]
  },
  {
   "cell_type": "code",
   "execution_count": 85,
   "metadata": {},
   "outputs": [
    {
     "name": "stdout",
     "output_type": "stream",
     "text": [
      "Best Accuracy: 51.72 %\n",
      "Best Parameters: {'estimator__C': 0.01, 'estimator__gamma': 0.01}\n"
     ]
    }
   ],
   "source": [
    "svr_model = MultiOutputRegressor(SVR())\n",
    "svr_params = {\n",
    "    'estimator__gamma': [0.001, 0.01],\n",
    "    'estimator__C': [0.001, 0.01],\n",
    "}\n",
    "\n",
    "svr_best = find_best(estimator_model = svr_model, params = svr_params)"
   ]
  },
  {
   "cell_type": "markdown",
   "metadata": {},
   "source": [
    "## RandomForestRegressor"
   ]
  },
  {
   "cell_type": "code",
   "execution_count": 25,
   "metadata": {},
   "outputs": [
    {
     "name": "stdout",
     "output_type": "stream",
     "text": [
      "Best Accuracy: 99.26 %\n",
      "Best Parameters: {'max_features': 2}\n"
     ]
    }
   ],
   "source": [
    "rndForest_model = RandomForestRegressor(n_estimators=100)\n",
    "rndForest_params = {'max_features': [1, 2, 3]}\n",
    "\n",
    "rndForest_best = find_best(estimator_model = rndForest_model, params = rndForest_params)"
   ]
  },
  {
   "cell_type": "markdown",
   "metadata": {},
   "source": [
    "## `Сравним все модели на X_test, y_test`"
   ]
  },
  {
   "cell_type": "code",
   "execution_count": 86,
   "metadata": {},
   "outputs": [],
   "source": [
    "models = {'base_line': multyline_regressor,\n",
    "           'Lasso': lasso_best,\n",
    "           'Ridge': ridge_best,\n",
    "           'ElasticNet': elnet_best,\n",
    "           'DecisionTree': dtree_best,\n",
    "           'SVR': svr_best,\n",
    "           'RandomForest': rndForest_best}"
   ]
  },
  {
   "cell_type": "code",
   "execution_count": 92,
   "metadata": {},
   "outputs": [],
   "source": [
    "def test(models):\n",
    "    results = {}\n",
    "    for i in models:\n",
    "        test_score = []\n",
    "        test_score.append(models[i].score(X_test, y_test))\n",
    "        results[i] = test_score\n",
    "    return pd.DataFrame(results)"
   ]
  },
  {
   "cell_type": "code",
   "execution_count": 93,
   "metadata": {},
   "outputs": [
    {
     "data": {
      "text/html": [
       "<div>\n",
       "<style scoped>\n",
       "    .dataframe tbody tr th:only-of-type {\n",
       "        vertical-align: middle;\n",
       "    }\n",
       "\n",
       "    .dataframe tbody tr th {\n",
       "        vertical-align: top;\n",
       "    }\n",
       "\n",
       "    .dataframe thead th {\n",
       "        text-align: right;\n",
       "    }\n",
       "</style>\n",
       "<table border=\"1\" class=\"dataframe\">\n",
       "  <thead>\n",
       "    <tr style=\"text-align: right;\">\n",
       "      <th></th>\n",
       "      <th>base_line</th>\n",
       "      <th>Lasso</th>\n",
       "      <th>Ridge</th>\n",
       "      <th>ElasticNet</th>\n",
       "      <th>DecisionTree</th>\n",
       "      <th>SVR</th>\n",
       "      <th>RandomForest</th>\n",
       "    </tr>\n",
       "  </thead>\n",
       "  <tbody>\n",
       "    <tr>\n",
       "      <th>0</th>\n",
       "      <td>0.648834</td>\n",
       "      <td>0.648817</td>\n",
       "      <td>0.648833</td>\n",
       "      <td>0.648817</td>\n",
       "      <td>0.739841</td>\n",
       "      <td>0.379661</td>\n",
       "      <td>0.744782</td>\n",
       "    </tr>\n",
       "  </tbody>\n",
       "</table>\n",
       "</div>"
      ],
      "text/plain": [
       "   base_line     Lasso     Ridge  ElasticNet  DecisionTree       SVR  \\\n",
       "0   0.648834  0.648817  0.648833    0.648817      0.739841  0.379661   \n",
       "\n",
       "   RandomForest  \n",
       "0      0.744782  "
      ]
     },
     "execution_count": 93,
     "metadata": {},
     "output_type": "execute_result"
    }
   ],
   "source": [
    "test(models)"
   ]
  }
 ],
 "metadata": {
  "kernelspec": {
   "display_name": "base",
   "language": "python",
   "name": "python3"
  },
  "language_info": {
   "codemirror_mode": {
    "name": "ipython",
    "version": 3
   },
   "file_extension": ".py",
   "mimetype": "text/x-python",
   "name": "python",
   "nbconvert_exporter": "python",
   "pygments_lexer": "ipython3",
   "version": "3.11.4"
  }
 },
 "nbformat": 4,
 "nbformat_minor": 2
}
